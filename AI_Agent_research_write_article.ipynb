{
  "cells": [
    {
      "cell_type": "markdown",
      "metadata": {
        "id": "FXFyTi4gCCOe"
      },
      "source": [
        "# AI Agents to Research and Write an Article"
      ]
    },
    {
      "cell_type": "markdown",
      "metadata": {
        "id": "okmv5q5wCCOf"
      },
      "source": [
        "```Python\n",
        "!pip install crewai==0.28.8 crewai_tools==0.1.6 langchain_community==0.0.29\n",
        "```"
      ]
    },
    {
      "cell_type": "code",
      "execution_count": null,
      "metadata": {
        "height": 64,
        "id": "zQANDv3SCCOf"
      },
      "outputs": [],
      "source": [
        "# Warning control\n",
        "import warnings\n",
        "warnings.filterwarnings('ignore')"
      ]
    },
    {
      "cell_type": "markdown",
      "metadata": {
        "id": "DrHqhmyCCCOg"
      },
      "source": [
        "- Import from the crewAI libray."
      ]
    },
    {
      "cell_type": "code",
      "execution_count": null,
      "metadata": {
        "height": 30,
        "id": "VjRxnA1JCCOg"
      },
      "outputs": [],
      "source": [
        "from crewai import Agent, Task, Crew"
      ]
    },
    {
      "cell_type": "code",
      "execution_count": null,
      "metadata": {
        "height": 98,
        "id": "P7Mokd5dCCOh"
      },
      "outputs": [],
      "source": [
        "import os\n",
        "from utils import get_openai_api_key\n",
        "\n",
        "openai_api_key = get_openai_api_key()\n",
        "os.environ[\"OPENAI_MODEL_NAME\"] = 'gpt-3.5-turbo'"
      ]
    },
    {
      "cell_type": "markdown",
      "metadata": {
        "id": "uS3xcEMUCCOh"
      },
      "source": [
        "## Creating Agents\n",
        "\n",
        "- Define your Agents, and provide them a `role`, `goal` and `backstory`.\n",
        "- It has been seen that LLMs perform better when they are role playing."
      ]
    },
    {
      "cell_type": "markdown",
      "metadata": {
        "id": "7tNAQe-ZCCOi"
      },
      "source": [
        "### Agent: Planner"
      ]
    },
    {
      "cell_type": "code",
      "execution_count": null,
      "metadata": {
        "height": 234,
        "id": "khjLpQJICCOi"
      },
      "outputs": [],
      "source": [
        "planner = Agent(\n",
        "    role=\"Content Planner\",\n",
        "    goal=\"Plan engaging and factually accurate content on {topic}\",\n",
        "    backstory=\"You're working on planning a blog article \"\n",
        "              \"about the topic: {topic}.\"\n",
        "              \"You collect information that helps the \"\n",
        "              \"audience learn something \"\n",
        "              \"and make informed decisions. \"\n",
        "              \"Your work is the basis for \"\n",
        "              \"the Content Writer to write an article on this topic.\",\n",
        "    allow_delegation=False,\n",
        "\tverbose=True\n",
        ")"
      ]
    },
    {
      "cell_type": "markdown",
      "metadata": {
        "id": "6rOyrsfXCCOi"
      },
      "source": [
        "### Agent: Writer"
      ]
    },
    {
      "cell_type": "code",
      "execution_count": null,
      "metadata": {
        "height": 370,
        "id": "dxQRgBKSCCOi"
      },
      "outputs": [],
      "source": [
        "writer = Agent(\n",
        "    role=\"Content Writer\",\n",
        "    goal=\"Write insightful and factually accurate \"\n",
        "         \"opinion piece about the topic: {topic}\",\n",
        "    backstory=\"You're working on a writing \"\n",
        "              \"a new opinion piece about the topic: {topic}. \"\n",
        "              \"You base your writing on the work of \"\n",
        "              \"the Content Planner, who provides an outline \"\n",
        "              \"and relevant context about the topic. \"\n",
        "              \"You follow the main objectives and \"\n",
        "              \"direction of the outline, \"\n",
        "              \"as provide by the Content Planner. \"\n",
        "              \"You also provide objective and impartial insights \"\n",
        "              \"and back them up with information \"\n",
        "              \"provide by the Content Planner. \"\n",
        "              \"You acknowledge in your opinion piece \"\n",
        "              \"when your statements are opinions \"\n",
        "              \"as opposed to objective statements.\",\n",
        "    allow_delegation=False,\n",
        "    verbose=True\n",
        ")"
      ]
    },
    {
      "cell_type": "markdown",
      "metadata": {
        "id": "nXHUUH9hCCOi"
      },
      "source": [
        "### Agent: Editor"
      ]
    },
    {
      "cell_type": "code",
      "execution_count": null,
      "metadata": {
        "height": 268,
        "id": "_XGyxmpyCCOi"
      },
      "outputs": [],
      "source": [
        "editor = Agent(\n",
        "    role=\"Editor\",\n",
        "    goal=\"Edit a given blog post to align with \"\n",
        "         \"the writing style of the organization. \",\n",
        "    backstory=\"You are an editor who receives a blog post \"\n",
        "              \"from the Content Writer. \"\n",
        "              \"Your goal is to review the blog post \"\n",
        "              \"to ensure that it follows journalistic best practices,\"\n",
        "              \"provides balanced viewpoints \"\n",
        "              \"when providing opinions or assertions, \"\n",
        "              \"and also avoids major controversial topics \"\n",
        "              \"or opinions when possible.\",\n",
        "    allow_delegation=False,\n",
        "    verbose=True\n",
        ")"
      ]
    },
    {
      "cell_type": "markdown",
      "metadata": {
        "id": "FKhGhutACCOi"
      },
      "source": [
        "## Creating Tasks\n",
        "\n",
        "- Defining Tasks, and provide them a `description`, `expected_output` and `agent`."
      ]
    },
    {
      "cell_type": "markdown",
      "metadata": {
        "id": "N__Nag4rCCOi"
      },
      "source": [
        "### Task: Plan"
      ]
    },
    {
      "cell_type": "code",
      "execution_count": null,
      "metadata": {
        "height": 268,
        "id": "Yl5Dr55aCCOi"
      },
      "outputs": [],
      "source": [
        "plan = Task(\n",
        "    description=(\n",
        "        \"1. Prioritize the latest trends, key players, \"\n",
        "            \"and noteworthy news on {topic}.\\n\"\n",
        "        \"2. Identify the target audience, considering \"\n",
        "            \"their interests and pain points.\\n\"\n",
        "        \"3. Develop a detailed content outline including \"\n",
        "            \"an introduction, key points, and a call to action.\\n\"\n",
        "        \"4. Include SEO keywords and relevant data or sources.\"\n",
        "    ),\n",
        "    expected_output=\"A comprehensive content plan document \"\n",
        "        \"with an outline, audience analysis, \"\n",
        "        \"SEO keywords, and resources.\",\n",
        "    agent=planner,\n",
        ")"
      ]
    },
    {
      "cell_type": "markdown",
      "metadata": {
        "id": "yuf8zzYRCCOi"
      },
      "source": [
        "### Task: Write"
      ]
    },
    {
      "cell_type": "code",
      "execution_count": null,
      "metadata": {
        "height": 319,
        "id": "AJ-Y6ZNLCCOj"
      },
      "outputs": [],
      "source": [
        "write = Task(\n",
        "    description=(\n",
        "        \"1. Use the content plan to craft a compelling \"\n",
        "            \"blog post on {topic}.\\n\"\n",
        "        \"2. Incorporate SEO keywords naturally.\\n\"\n",
        "\t\t\"3. Sections/Subtitles are properly named \"\n",
        "            \"in an engaging manner.\\n\"\n",
        "        \"4. Ensure the post is structured with an \"\n",
        "            \"engaging introduction, insightful body, \"\n",
        "            \"and a summarizing conclusion.\\n\"\n",
        "        \"5. Proofread for grammatical errors and \"\n",
        "            \"alignment with the brand's voice.\\n\"\n",
        "    ),\n",
        "    expected_output=\"A well-written blog post \"\n",
        "        \"in markdown format, ready for publication, \"\n",
        "        \"each section should have 2 or 3 paragraphs.\",\n",
        "    agent=writer,\n",
        ")"
      ]
    },
    {
      "cell_type": "markdown",
      "metadata": {
        "id": "v0tLAx_6CCOj"
      },
      "source": [
        "### Task: Edit"
      ]
    },
    {
      "cell_type": "code",
      "execution_count": null,
      "metadata": {
        "height": 166,
        "id": "BM6tpb35CCOj"
      },
      "outputs": [],
      "source": [
        "edit = Task(\n",
        "    description=(\"Proofread the given blog post for \"\n",
        "                 \"grammatical errors and \"\n",
        "                 \"alignment with the brand's voice.\"),\n",
        "    expected_output=\"A well-written blog post in markdown format, \"\n",
        "                    \"ready for publication, \"\n",
        "                    \"each section should have 2 or 3 paragraphs.\",\n",
        "    agent=editor\n",
        ")"
      ]
    },
    {
      "cell_type": "markdown",
      "metadata": {
        "id": "Nm5wDx3-CCOj"
      },
      "source": [
        "## Creating the Crew\n",
        "\n",
        "- Create your crew of Agents\n",
        "- Pass the tasks to be performed by those agents.\n",
        "    - **Note**: *For this simple example*, the tasks will be performed sequentially (i.e they are dependent on each other), so the _order_ of the task in the list _matters_.\n",
        "- `verbose=2` allows you to see all the logs of the execution."
      ]
    },
    {
      "cell_type": "code",
      "execution_count": null,
      "metadata": {
        "height": 98,
        "id": "bpRfE7EvCCOj"
      },
      "outputs": [],
      "source": [
        "crew = Crew(\n",
        "    agents=[planner, writer, editor],\n",
        "    tasks=[plan, write, edit],\n",
        "    verbose=2\n",
        ")"
      ]
    },
    {
      "cell_type": "markdown",
      "metadata": {
        "id": "2YE8LAabCCOj"
      },
      "source": [
        "## Running the Crew"
      ]
    },
    {
      "cell_type": "code",
      "execution_count": null,
      "metadata": {
        "height": 30,
        "id": "5QIxqlRUCCOj",
        "outputId": "4b8a0dee-8422-4f3c-d6c2-31d00aff443d"
      },
      "outputs": [
        {
          "name": "stdout",
          "output_type": "stream",
          "text": [
            "\u001b[1m\u001b[95m [DEBUG]: == Working Agent: Content Planner\u001b[00m\n",
            "\u001b[1m\u001b[95m [INFO]: == Starting Task: 1. Prioritize the latest trends, key players, and noteworthy news on Artificial Intelligence.\n",
            "2. Identify the target audience, considering their interests and pain points.\n",
            "3. Develop a detailed content outline including an introduction, key points, and a call to action.\n",
            "4. Include SEO keywords and relevant data or sources.\u001b[00m\n",
            "\n",
            "\n",
            "\u001b[1m> Entering new CrewAgentExecutor chain...\u001b[0m\n",
            "\u001b[32;1m\u001b[1;3mI now can give a great answer\n",
            "\n",
            "Final Answer: \n",
            "\n",
            "Content Plan: \n",
            "\n",
            "Title: The Future of Artificial Intelligence: Trends, Players, and News\n",
            "\n",
            "Introduction:\n",
            "- Brief overview of the current state of Artificial Intelligence (AI) technology\n",
            "- Importance of staying updated on the latest trends and news in the AI industry\n",
            "\n",
            "Key Points:\n",
            "1. Latest Trends in Artificial Intelligence:\n",
            "- Machine learning advancements\n",
            "- Natural language processing developments\n",
            "- AI ethics and regulations\n",
            "- AI in healthcare, finance, and other industries\n",
            "\n",
            "2. Key Players in the Artificial Intelligence Industry:\n",
            "- Google DeepMind\n",
            "- IBM Watson\n",
            "- Amazon Web Services\n",
            "- Microsoft Azure\n",
            "\n",
            "3. Noteworthy News in Artificial Intelligence:\n",
            "- Recent breakthroughs in AI research\n",
            "- Impact of AI on job markets\n",
            "- Ethical concerns surrounding AI technology\n",
            "\n",
            "Audience Analysis:\n",
            "- Target Audience: Tech enthusiasts, industry professionals, business leaders\n",
            "- Interests: Cutting-edge technology, innovation, future trends\n",
            "- Pain Points: Keeping up with rapidly evolving AI landscape, understanding the implications of AI on society and business\n",
            "\n",
            "SEO Keywords:\n",
            "- Artificial Intelligence trends\n",
            "- Key players in AI industry\n",
            "- Latest news in Artificial Intelligence\n",
            "- Machine learning advancements\n",
            "- AI ethics and regulations\n",
            "\n",
            "Resources:\n",
            "1. \"The State of Artificial Intelligence in 2021\" - Forbes\n",
            "2. \"Top Artificial Intelligence Companies to Watch in 2021\" - TechCrunch\n",
            "3. \"Ethical Considerations in Artificial Intelligence\" - Harvard Business Review\n",
            "\n",
            "Call to Action:\n",
            "- Encourage readers to stay informed by subscribing to industry newsletters or following reputable AI news sources\n",
            "- Prompt readers to engage in discussions about AI trends and news on social media platforms\n",
            "\n",
            "By following this comprehensive content plan, the blog article on Artificial Intelligence will provide valuable insights and information to the target audience while incorporating SEO keywords and reputable resources to enhance the credibility of the content.\u001b[0m\n",
            "\n",
            "\u001b[1m> Finished chain.\u001b[0m\n",
            "\u001b[1m\u001b[92m [DEBUG]: == [Content Planner] Task output: Content Plan: \n",
            "\n",
            "Title: The Future of Artificial Intelligence: Trends, Players, and News\n",
            "\n",
            "Introduction:\n",
            "- Brief overview of the current state of Artificial Intelligence (AI) technology\n",
            "- Importance of staying updated on the latest trends and news in the AI industry\n",
            "\n",
            "Key Points:\n",
            "1. Latest Trends in Artificial Intelligence:\n",
            "- Machine learning advancements\n",
            "- Natural language processing developments\n",
            "- AI ethics and regulations\n",
            "- AI in healthcare, finance, and other industries\n",
            "\n",
            "2. Key Players in the Artificial Intelligence Industry:\n",
            "- Google DeepMind\n",
            "- IBM Watson\n",
            "- Amazon Web Services\n",
            "- Microsoft Azure\n",
            "\n",
            "3. Noteworthy News in Artificial Intelligence:\n",
            "- Recent breakthroughs in AI research\n",
            "- Impact of AI on job markets\n",
            "- Ethical concerns surrounding AI technology\n",
            "\n",
            "Audience Analysis:\n",
            "- Target Audience: Tech enthusiasts, industry professionals, business leaders\n",
            "- Interests: Cutting-edge technology, innovation, future trends\n",
            "- Pain Points: Keeping up with rapidly evolving AI landscape, understanding the implications of AI on society and business\n",
            "\n",
            "SEO Keywords:\n",
            "- Artificial Intelligence trends\n",
            "- Key players in AI industry\n",
            "- Latest news in Artificial Intelligence\n",
            "- Machine learning advancements\n",
            "- AI ethics and regulations\n",
            "\n",
            "Resources:\n",
            "1. \"The State of Artificial Intelligence in 2021\" - Forbes\n",
            "2. \"Top Artificial Intelligence Companies to Watch in 2021\" - TechCrunch\n",
            "3. \"Ethical Considerations in Artificial Intelligence\" - Harvard Business Review\n",
            "\n",
            "Call to Action:\n",
            "- Encourage readers to stay informed by subscribing to industry newsletters or following reputable AI news sources\n",
            "- Prompt readers to engage in discussions about AI trends and news on social media platforms\n",
            "\n",
            "By following this comprehensive content plan, the blog article on Artificial Intelligence will provide valuable insights and information to the target audience while incorporating SEO keywords and reputable resources to enhance the credibility of the content.\n",
            "\n",
            "\u001b[00m\n",
            "\u001b[1m\u001b[95m [DEBUG]: == Working Agent: Content Writer\u001b[00m\n",
            "\u001b[1m\u001b[95m [INFO]: == Starting Task: 1. Use the content plan to craft a compelling blog post on Artificial Intelligence.\n",
            "2. Incorporate SEO keywords naturally.\n",
            "3. Sections/Subtitles are properly named in an engaging manner.\n",
            "4. Ensure the post is structured with an engaging introduction, insightful body, and a summarizing conclusion.\n",
            "5. Proofread for grammatical errors and alignment with the brand's voice.\n",
            "\u001b[00m\n",
            "\n",
            "\n",
            "\u001b[1m> Entering new CrewAgentExecutor chain...\u001b[0m\n",
            "\u001b[32;1m\u001b[1;3mI have carefully analyzed the content plan provided and I am confident in my ability to craft a compelling blog post on the topic of Artificial Intelligence. By following the outlined structure and incorporating relevant SEO keywords, I believe I can create an insightful piece that will engage the target audience and provide valuable information on the latest trends, key players, and noteworthy news in the AI industry.\n",
            "\n",
            "Final Answer:\n",
            "\n",
            "# The Future of Artificial Intelligence: Trends, Players, and News\n",
            "\n",
            "## Introduction\n",
            "Artificial Intelligence (AI) technology has rapidly evolved in recent years, transforming various industries and shaping the future of innovation. Staying updated on the latest trends and news in the AI industry is crucial for tech enthusiasts, industry professionals, and business leaders alike. As AI continues to advance, understanding its implications on society and business becomes increasingly important.\n",
            "\n",
            "## Latest Trends in Artificial Intelligence\n",
            "One of the key trends in AI is the continuous advancements in machine learning, enabling machines to learn from data and improve their performance over time. Natural language processing (NLP) is also a significant trend, allowing machines to understand and generate human language. Moreover, the discussion around AI ethics and regulations has become more prominent, as stakeholders grapple with the ethical implications of AI technology. From healthcare to finance, AI is making significant strides in various industries, revolutionizing processes and enhancing efficiency.\n",
            "\n",
            "## Key Players in the Artificial Intelligence Industry\n",
            "Several key players are leading the way in the AI industry, including Google DeepMind, known for its cutting-edge research in AI and machine learning. IBM Watson is another prominent player, offering AI-powered solutions for businesses. Amazon Web Services and Microsoft Azure are also major players, providing cloud-based AI services to a wide range of industries. These companies are driving innovation and shaping the future of AI technology.\n",
            "\n",
            "## Noteworthy News in Artificial Intelligence\n",
            "Recent breakthroughs in AI research have been making headlines, showcasing the potential of AI to revolutionize various sectors. However, the impact of AI on job markets is a topic of concern, as automation and AI technologies reshape the workforce. Ethical considerations surrounding AI technology are also gaining attention, with discussions on bias, privacy, and accountability becoming more prevalent. It is essential to stay informed on these developments to navigate the rapidly evolving AI landscape effectively.\n",
            "\n",
            "As we look towards the future of Artificial Intelligence, staying informed and engaging in discussions about AI trends and news is crucial. By subscribing to industry newsletters and following reputable AI news sources, readers can stay ahead of the curve and contribute to the ongoing dialogue on the implications of AI technology. Let's embrace the opportunities that AI presents while addressing the challenges it brings, shaping a future where AI benefits society and business alike.\u001b[0m\n",
            "\n",
            "\u001b[1m> Finished chain.\u001b[0m\n",
            "\u001b[1m\u001b[92m [DEBUG]: == [Content Writer] Task output: # The Future of Artificial Intelligence: Trends, Players, and News\n",
            "\n",
            "## Introduction\n",
            "Artificial Intelligence (AI) technology has rapidly evolved in recent years, transforming various industries and shaping the future of innovation. Staying updated on the latest trends and news in the AI industry is crucial for tech enthusiasts, industry professionals, and business leaders alike. As AI continues to advance, understanding its implications on society and business becomes increasingly important.\n",
            "\n",
            "## Latest Trends in Artificial Intelligence\n",
            "One of the key trends in AI is the continuous advancements in machine learning, enabling machines to learn from data and improve their performance over time. Natural language processing (NLP) is also a significant trend, allowing machines to understand and generate human language. Moreover, the discussion around AI ethics and regulations has become more prominent, as stakeholders grapple with the ethical implications of AI technology. From healthcare to finance, AI is making significant strides in various industries, revolutionizing processes and enhancing efficiency.\n",
            "\n",
            "## Key Players in the Artificial Intelligence Industry\n",
            "Several key players are leading the way in the AI industry, including Google DeepMind, known for its cutting-edge research in AI and machine learning. IBM Watson is another prominent player, offering AI-powered solutions for businesses. Amazon Web Services and Microsoft Azure are also major players, providing cloud-based AI services to a wide range of industries. These companies are driving innovation and shaping the future of AI technology.\n",
            "\n",
            "## Noteworthy News in Artificial Intelligence\n",
            "Recent breakthroughs in AI research have been making headlines, showcasing the potential of AI to revolutionize various sectors. However, the impact of AI on job markets is a topic of concern, as automation and AI technologies reshape the workforce. Ethical considerations surrounding AI technology are also gaining attention, with discussions on bias, privacy, and accountability becoming more prevalent. It is essential to stay informed on these developments to navigate the rapidly evolving AI landscape effectively.\n",
            "\n",
            "As we look towards the future of Artificial Intelligence, staying informed and engaging in discussions about AI trends and news is crucial. By subscribing to industry newsletters and following reputable AI news sources, readers can stay ahead of the curve and contribute to the ongoing dialogue on the implications of AI technology. Let's embrace the opportunities that AI presents while addressing the challenges it brings, shaping a future where AI benefits society and business alike.\n",
            "\n",
            "\u001b[00m\n",
            "\u001b[1m\u001b[95m [DEBUG]: == Working Agent: Editor\u001b[00m\n",
            "\u001b[1m\u001b[95m [INFO]: == Starting Task: Proofread the given blog post for grammatical errors and alignment with the brand's voice.\u001b[00m\n",
            "\n",
            "\n",
            "\u001b[1m> Entering new CrewAgentExecutor chain...\u001b[0m\n"
          ]
        },
        {
          "name": "stdout",
          "output_type": "stream",
          "text": [
            "\u001b[32;1m\u001b[1;3mI now can give a great answer\n",
            "\n",
            "Final Answer:\n",
            "# The Future of Artificial Intelligence: Trends, Players, and News\n",
            "\n",
            "## Introduction\n",
            "Artificial Intelligence (AI) technology has rapidly evolved in recent years, transforming various industries and shaping the future of innovation. Staying updated on the latest trends and news in the AI industry is crucial for tech enthusiasts, industry professionals, and business leaders alike. As AI continues to advance, understanding its implications on society and business becomes increasingly important.\n",
            "\n",
            "## Latest Trends in Artificial Intelligence\n",
            "One of the key trends in AI is the continuous advancements in machine learning, enabling machines to learn from data and improve their performance over time. Natural language processing (NLP) is also a significant trend, allowing machines to understand and generate human language. Moreover, the discussion around AI ethics and regulations has become more prominent, as stakeholders grapple with the ethical implications of AI technology. From healthcare to finance, AI is making significant strides in various industries, revolutionizing processes and enhancing efficiency.\n",
            "\n",
            "## Key Players in the Artificial Intelligence Industry\n",
            "Several key players are leading the way in the AI industry, including Google DeepMind, known for its cutting-edge research in AI and machine learning. IBM Watson is another prominent player, offering AI-powered solutions for businesses. Amazon Web Services and Microsoft Azure are also major players, providing cloud-based AI services to a wide range of industries. These companies are driving innovation and shaping the future of AI technology.\n",
            "\n",
            "## Noteworthy News in Artificial Intelligence\n",
            "Recent breakthroughs in AI research have been making headlines, showcasing the potential of AI to revolutionize various sectors. However, the impact of AI on job markets is a topic of concern, as automation and AI technologies reshape the workforce. Ethical considerations surrounding AI technology are also gaining attention, with discussions on bias, privacy, and accountability becoming more prevalent. It is essential to stay informed on these developments to navigate the rapidly evolving AI landscape effectively.\n",
            "\n",
            "As we look towards the future of Artificial Intelligence, staying informed and engaging in discussions about AI trends and news is crucial. By subscribing to industry newsletters and following reputable AI news sources, readers can stay ahead of the curve and contribute to the ongoing dialogue on the implications of AI technology. Let's embrace the opportunities that AI presents while addressing the challenges it brings, shaping a future where AI benefits society and business alike.\u001b[0m\n",
            "\n",
            "\u001b[1m> Finished chain.\u001b[0m\n",
            "\u001b[1m\u001b[92m [DEBUG]: == [Editor] Task output: # The Future of Artificial Intelligence: Trends, Players, and News\n",
            "\n",
            "## Introduction\n",
            "Artificial Intelligence (AI) technology has rapidly evolved in recent years, transforming various industries and shaping the future of innovation. Staying updated on the latest trends and news in the AI industry is crucial for tech enthusiasts, industry professionals, and business leaders alike. As AI continues to advance, understanding its implications on society and business becomes increasingly important.\n",
            "\n",
            "## Latest Trends in Artificial Intelligence\n",
            "One of the key trends in AI is the continuous advancements in machine learning, enabling machines to learn from data and improve their performance over time. Natural language processing (NLP) is also a significant trend, allowing machines to understand and generate human language. Moreover, the discussion around AI ethics and regulations has become more prominent, as stakeholders grapple with the ethical implications of AI technology. From healthcare to finance, AI is making significant strides in various industries, revolutionizing processes and enhancing efficiency.\n",
            "\n",
            "## Key Players in the Artificial Intelligence Industry\n",
            "Several key players are leading the way in the AI industry, including Google DeepMind, known for its cutting-edge research in AI and machine learning. IBM Watson is another prominent player, offering AI-powered solutions for businesses. Amazon Web Services and Microsoft Azure are also major players, providing cloud-based AI services to a wide range of industries. These companies are driving innovation and shaping the future of AI technology.\n",
            "\n",
            "## Noteworthy News in Artificial Intelligence\n",
            "Recent breakthroughs in AI research have been making headlines, showcasing the potential of AI to revolutionize various sectors. However, the impact of AI on job markets is a topic of concern, as automation and AI technologies reshape the workforce. Ethical considerations surrounding AI technology are also gaining attention, with discussions on bias, privacy, and accountability becoming more prevalent. It is essential to stay informed on these developments to navigate the rapidly evolving AI landscape effectively.\n",
            "\n",
            "As we look towards the future of Artificial Intelligence, staying informed and engaging in discussions about AI trends and news is crucial. By subscribing to industry newsletters and following reputable AI news sources, readers can stay ahead of the curve and contribute to the ongoing dialogue on the implications of AI technology. Let's embrace the opportunities that AI presents while addressing the challenges it brings, shaping a future where AI benefits society and business alike.\n",
            "\n",
            "\u001b[00m\n"
          ]
        }
      ],
      "source": [
        "result = crew.kickoff(inputs={\"topic\": \"Artificial Intelligence\"})"
      ]
    },
    {
      "cell_type": "markdown",
      "metadata": {
        "id": "xUyg3i9nCCOj"
      },
      "source": [
        "- Display the results of your execution as markdown in the notebook."
      ]
    },
    {
      "cell_type": "code",
      "execution_count": null,
      "metadata": {
        "height": 47,
        "id": "utG8QJXgCCOj",
        "outputId": "ae989f5b-f889-4426-cbf5-69a312d3c475"
      },
      "outputs": [
        {
          "data": {
            "text/markdown": [
              "# The Future of Artificial Intelligence: Trends, Players, and News\n",
              "\n",
              "## Introduction\n",
              "Artificial Intelligence (AI) technology has rapidly evolved in recent years, transforming various industries and shaping the future of innovation. Staying updated on the latest trends and news in the AI industry is crucial for tech enthusiasts, industry professionals, and business leaders alike. As AI continues to advance, understanding its implications on society and business becomes increasingly important.\n",
              "\n",
              "## Latest Trends in Artificial Intelligence\n",
              "One of the key trends in AI is the continuous advancements in machine learning, enabling machines to learn from data and improve their performance over time. Natural language processing (NLP) is also a significant trend, allowing machines to understand and generate human language. Moreover, the discussion around AI ethics and regulations has become more prominent, as stakeholders grapple with the ethical implications of AI technology. From healthcare to finance, AI is making significant strides in various industries, revolutionizing processes and enhancing efficiency.\n",
              "\n",
              "## Key Players in the Artificial Intelligence Industry\n",
              "Several key players are leading the way in the AI industry, including Google DeepMind, known for its cutting-edge research in AI and machine learning. IBM Watson is another prominent player, offering AI-powered solutions for businesses. Amazon Web Services and Microsoft Azure are also major players, providing cloud-based AI services to a wide range of industries. These companies are driving innovation and shaping the future of AI technology.\n",
              "\n",
              "## Noteworthy News in Artificial Intelligence\n",
              "Recent breakthroughs in AI research have been making headlines, showcasing the potential of AI to revolutionize various sectors. However, the impact of AI on job markets is a topic of concern, as automation and AI technologies reshape the workforce. Ethical considerations surrounding AI technology are also gaining attention, with discussions on bias, privacy, and accountability becoming more prevalent. It is essential to stay informed on these developments to navigate the rapidly evolving AI landscape effectively.\n",
              "\n",
              "As we look towards the future of Artificial Intelligence, staying informed and engaging in discussions about AI trends and news is crucial. By subscribing to industry newsletters and following reputable AI news sources, readers can stay ahead of the curve and contribute to the ongoing dialogue on the implications of AI technology. Let's embrace the opportunities that AI presents while addressing the challenges it brings, shaping a future where AI benefits society and business alike."
            ],
            "text/plain": [
              "<IPython.core.display.Markdown object>"
            ]
          },
          "execution_count": 12,
          "metadata": {},
          "output_type": "execute_result"
        }
      ],
      "source": [
        "from IPython.display import Markdown\n",
        "Markdown(result)"
      ]
    },
    {
      "cell_type": "markdown",
      "metadata": {
        "id": "b_aEfl8XCCOk"
      },
      "source": [
        "<a name='1'></a>\n",
        " ## Other Popular Models as LLM for your Agents"
      ]
    },
    {
      "cell_type": "markdown",
      "metadata": {
        "id": "U3YYr9iiCCOk"
      },
      "source": [
        "#### Hugging Face (HuggingFaceHub endpoint)\n",
        "\n",
        "```Python\n",
        "from langchain_community.llms import HuggingFaceHub\n",
        "\n",
        "llm = HuggingFaceHub(\n",
        "    repo_id=\"HuggingFaceH4/zephyr-7b-beta\",\n",
        "    huggingfacehub_api_token=\"<HF_TOKEN_HERE>\",\n",
        "    task=\"text-generation\",\n",
        ")\n",
        "\n",
        "### you will pass \"llm\" to your agent function\n",
        "```"
      ]
    },
    {
      "cell_type": "markdown",
      "metadata": {
        "id": "VJo6viCnCCOk"
      },
      "source": [
        "#### Mistral API\n",
        "\n",
        "```Python\n",
        "OPENAI_API_KEY=your-mistral-api-key\n",
        "OPENAI_API_BASE=https://api.mistral.ai/v1\n",
        "OPENAI_MODEL_NAME=\"mistral-small\"\n",
        "```"
      ]
    },
    {
      "cell_type": "markdown",
      "metadata": {
        "id": "g6RTSWG8CCOk"
      },
      "source": [
        "#### Cohere\n",
        "\n",
        "```Python\n",
        "from langchain_community.chat_models import ChatCohere\n",
        "# Initialize language model\n",
        "os.environ[\"COHERE_API_KEY\"] = \"your-cohere-api-key\"\n",
        "llm = ChatCohere()\n",
        "\n",
        "### you will pass \"llm\" to your agent function\n",
        "```"
      ]
    }
  ],
  "metadata": {
    "colab": {
      "gpuType": "T4",
      "provenance": []
    },
    "kernelspec": {
      "display_name": "Python 3 (ipykernel)",
      "language": "python",
      "name": "python3"
    },
    "language_info": {
      "codemirror_mode": {
        "name": "ipython",
        "version": 3
      },
      "file_extension": ".py",
      "mimetype": "text/x-python",
      "name": "python",
      "nbconvert_exporter": "python",
      "pygments_lexer": "ipython3",
      "version": "3.11.9"
    }
  },
  "nbformat": 4,
  "nbformat_minor": 0
}